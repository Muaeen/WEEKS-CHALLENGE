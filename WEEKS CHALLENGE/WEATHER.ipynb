{
 "cells": [
  {
   "cell_type": "code",
   "execution_count": 7,
   "id": "b5e2826b",
   "metadata": {},
   "outputs": [
    {
     "name": "stdout",
     "output_type": "stream",
     "text": [
      "Enter a country name: muscat\n",
      "23.58413\n",
      "58.40778\n",
      "Weather Today in Muscat, Muscat Governorate, Oman\n",
      "Humidity : 43%\n"
     ]
    }
   ],
   "source": [
    "import requests\n",
    "from bs4 import BeautifulSoup\n",
    "country = input(\"Enter a country name: \")\n",
    "api_username = \"Geo_Testing\"\n",
    "\n",
    "url = f\"http://api.geonames.org/search?q={country}&maxRows=1&username={api_username}\"\n",
    "response = requests.get(url)\n",
    "\n",
    "\n",
    "\n",
    "try:\n",
    "    soup = BeautifulSoup(response.content, 'xml')\n",
    "except requests.exceptions.RequestException:\n",
    "    print(\"Error getting latitude and longitude from GeoNames API\") \n",
    "    exit()\n",
    "# Check if the `soup` object is `None`\n",
    "if soup is None:\n",
    "    print(\"No results found for {country}\")\n",
    "else:\n",
    "# Extract the latitude and longitude from the response \n",
    "    lat = soup.find('lat').text\n",
    "    lon = soup.find('lng').text\n",
    "print (f\"{lat}\" )\n",
    "print(f'{lon}')\n",
    "# Create the URL for weather.com\n",
    "page = requests.get(f\"https://weather.com/weather/today/l/{lat},{lon}?par=google\")\n",
    "\n",
    "\n",
    "def main(page):\n",
    "    \n",
    "    scource = page.content\n",
    "    soup = BeautifulSoup(scource,'lxml')\n",
    "    all_ = soup.find_all('section',{'class':'card Card--card--2AzRg'})\n",
    "    info = soup.find_all('div',{'class':'TodayDetailsCard--detailsContainer--2yLtL'})\n",
    "    \n",
    "    \n",
    "    def loc_(all_):\n",
    "        today = all_.contents\n",
    "        location = today[0].find('h2').text.strip()\n",
    "        print(location)\n",
    "        \n",
    "    def weathet_info(info):\n",
    "        info = info.contents\n",
    "        humidity = info[2].find('span').text\n",
    "        print(f'Humidity : {humidity}')\n",
    "        \n",
    "        #temp = today[1].find('span',{'class':'TodayDetailsCard--feelsLikeTempValue--2icPt'}).text\n",
    "        #Humidity = today[2].find('div',{'class','WeatherDetailsListItem--wxData--kK35q'})\n",
    "        #print(temp)\n",
    "    loc_(all_[1])\n",
    "    weathet_info(info[-1])\n",
    "main(page)"
   ]
  },
  {
   "cell_type": "code",
   "execution_count": null,
   "id": "a00ae61a",
   "metadata": {},
   "outputs": [],
   "source": []
  },
  {
   "cell_type": "code",
   "execution_count": null,
   "id": "a84d09fd",
   "metadata": {},
   "outputs": [],
   "source": []
  },
  {
   "cell_type": "code",
   "execution_count": null,
   "id": "df7720d0",
   "metadata": {},
   "outputs": [],
   "source": []
  }
 ],
 "metadata": {
  "kernelspec": {
   "display_name": "Python 3 (ipykernel)",
   "language": "python",
   "name": "python3"
  },
  "language_info": {
   "codemirror_mode": {
    "name": "ipython",
    "version": 3
   },
   "file_extension": ".py",
   "mimetype": "text/x-python",
   "name": "python",
   "nbconvert_exporter": "python",
   "pygments_lexer": "ipython3",
   "version": "3.9.12"
  }
 },
 "nbformat": 4,
 "nbformat_minor": 5
}
